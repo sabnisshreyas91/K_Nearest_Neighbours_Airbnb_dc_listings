{
 "cells": [
  {
   "cell_type": "code",
   "execution_count": 55,
   "metadata": {
    "collapsed": false
   },
   "outputs": [
    {
     "name": "stdout",
     "output_type": "stream",
     "text": [
      "12271.4028883 110.776364303\n"
     ]
    }
   ],
   "source": [
    "import pandas as pd\n",
    "import numpy as np\n",
    "from sklearn.neighbors import KNeighborsRegressor\n",
    "from sklearn.metrics import mean_squared_error\n",
    "\n",
    "listings=pd.read_csv('C:\\\\Users\\\\Shreyas\\\\Downloads\\\\listings.csv')\n",
    "\n",
    "#only retain columns that model will use\n",
    "listings=listings[['accommodates','bedrooms','bathrooms','beds','minimum_nights','maximum_nights','number_of_reviews','price']]\n",
    "\n",
    "#'bedrooms,bathrooms and beds columns have a NULLs in a very small percentage of rows, we will hence simply drop these rows.\n",
    "listings.dropna(axis=0,inplace=True)\n",
    "listings['price']=listings.price.str[1:] #strip the $ from the price\n",
    "listings['price']=listings.price.str.replace(',','') #remove any seperating commas in the price column\n",
    "listings['price']=listings['price'].astype('float')\n",
    "listings = listings.loc[np.random.permutation(listings.index)]\n",
    "\n",
    "#As certain columns like maximum_nights and number_of_reviews can potentially span much larger values than other columns,\n",
    "#we normalize all columns to the standard normal distribution to prevent any single column from having too much of an impact on\n",
    "#Euclidean distance\n",
    "normalized_listings = (listings - listings.mean())/(listings.std())\n",
    "normalized_listings['price'] = listings['price']\n",
    "\n",
    "per_train=0.8\n",
    "features=['accommodates','bedrooms','bathrooms','beds','minimum_nights','maximum_nights','number_of_reviews']\n",
    "train_df=normalized_listings[:round(per_train*len(normalized_listings))]\n",
    "test_df=normalized_listings[round(per_train*len(normalized_listings)):]\n",
    "\n",
    "knn = KNeighborsRegressor(n_neighbors=5, algorithm='brute')\n",
    "knn.fit(train_df[features],train_df['price'])\n",
    "predictions=knn.predict(test_df[features])\n",
    "\n",
    "mse=mean_squared_error(test_df['price'],predictions)\n",
    "rmse=np.sqrt(mse)\n",
    "print(mse,rmse)\n",
    "\n",
    "\n",
    "\n"
   ]
  },
  {
   "cell_type": "code",
   "execution_count": null,
   "metadata": {
    "collapsed": true
   },
   "outputs": [],
   "source": []
  }
 ],
 "metadata": {
  "anaconda-cloud": {},
  "kernelspec": {
   "display_name": "Python [default]",
   "language": "python",
   "name": "python3"
  },
  "language_info": {
   "codemirror_mode": {
    "name": "ipython",
    "version": 3
   },
   "file_extension": ".py",
   "mimetype": "text/x-python",
   "name": "python",
   "nbconvert_exporter": "python",
   "pygments_lexer": "ipython3",
   "version": "3.5.2"
  }
 },
 "nbformat": 4,
 "nbformat_minor": 1
}
